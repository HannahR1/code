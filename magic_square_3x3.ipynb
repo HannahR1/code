{
 "cells": [
  {
   "cell_type": "code",
   "execution_count": 20,
   "metadata": {},
   "outputs": [],
   "source": [
    "from __future__ import print_function  # for python 2.7 compatibility\n",
    "from constraint import *               # if needed, do: pip install python-constraint"
   ]
  },
  {
   "cell_type": "code",
   "execution_count": 21,
   "metadata": {},
   "outputs": [],
   "source": [
    "p = Problem()    # create a new constrint problem"
   ]
  },
  {
   "cell_type": "code",
   "execution_count": 22,
   "metadata": {},
   "outputs": [],
   "source": [
    "# create nine variables named 0..8 where each has domain 1..9\n",
    "p.addVariables(range(0, 9), range(1, 9+1))"
   ]
  },
  {
   "cell_type": "code",
   "execution_count": 23,
   "metadata": {},
   "outputs": [],
   "source": [
    "# Each variable must have a different value\n",
    "p.addConstraint(AllDifferentConstraint(), range(0, 9))\n",
    "\n",
    "# the sum of the diagonals must be 15\n",
    "p.addConstraint(ExactSumConstraint(15), [0,4,8])\n",
    "p.addConstraint(ExactSumConstraint(15), [2,4,6])\n",
    "\n",
    "# the sum of each row must be 15\n",
    "for row in range(3):\n",
    "    p.addConstraint(ExactSumConstraint(15),\n",
    "                          [row*3+i for i in range(3)])\n",
    "    \n",
    "# the sum of each column must be 15\n",
    "for col in range(3):\n",
    "    p.addConstraint(ExactSumConstraint(15),\n",
    "                          [col+3*i for i in range(3)])"
   ]
  },
  {
   "cell_type": "code",
   "execution_count": 24,
   "metadata": {},
   "outputs": [
    {
     "name": "stdout",
     "output_type": "stream",
     "text": [
      "\n",
      "672\n",
      "159\n",
      "834\n",
      "\n",
      "618\n",
      "753\n",
      "294\n",
      "\n",
      "816\n",
      "357\n",
      "492\n",
      "\n",
      "834\n",
      "159\n",
      "672\n",
      "\n",
      "438\n",
      "951\n",
      "276\n",
      "\n",
      "492\n",
      "357\n",
      "816\n",
      "\n",
      "276\n",
      "951\n",
      "438\n",
      "\n",
      "294\n",
      "753\n",
      "618\n"
     ]
    }
   ],
   "source": [
    "# find and print all solutions\n",
    "for solution in p.getSolutions():\n",
    "    print()\n",
    "    for row in range(3):\n",
    "        for col in range(3):\n",
    "            print(solution[row*3+col], end='')\n",
    "        print()"
   ]
  },
  {
   "cell_type": "code",
   "execution_count": null,
   "metadata": {},
   "outputs": [],
   "source": []
  },
  {
   "cell_type": "code",
   "execution_count": null,
   "metadata": {},
   "outputs": [],
   "source": []
  }
 ],
 "metadata": {
  "kernelspec": {
   "display_name": "Python 3",
   "language": "python",
   "name": "python3"
  },
  "language_info": {
   "codemirror_mode": {
    "name": "ipython",
    "version": 3
   },
   "file_extension": ".py",
   "mimetype": "text/x-python",
   "name": "python",
   "nbconvert_exporter": "python",
   "pygments_lexer": "ipython3",
   "version": "3.6.0"
  }
 },
 "nbformat": 4,
 "nbformat_minor": 2
}
