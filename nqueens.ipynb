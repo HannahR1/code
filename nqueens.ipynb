{
 "cells": [
  {
   "cell_type": "markdown",
   "metadata": {},
   "source": [
    "The N-Queens problem asks you to plave N queens on an NxN chessboard so that no queen attacks another.\n",
    "\n",
    "This example shows that the min conflicts solver can find solutions to the N-Queens problem faster than the backtracking CSP approach for large N"
   ]
  },
  {
   "cell_type": "code",
   "execution_count": 32,
   "metadata": {},
   "outputs": [
    {
     "name": "stdout",
     "output_type": "stream",
     "text": [
      "Requirement already satisfied: python-constraint in /Library/Frameworks/Python.framework/Versions/3.7/lib/python3.7/site-packages (1.4.0)\n",
      "\u001b[33mYou are using pip version 18.1, however version 19.0.3 is available.\n",
      "You should consider upgrading via the 'pip install --upgrade pip' command.\u001b[0m\n"
     ]
    }
   ],
   "source": [
    "# this may be needed for remote execution\n",
    "!pip install --user python-constraint"
   ]
  },
  {
   "cell_type": "code",
   "execution_count": 26,
   "metadata": {},
   "outputs": [],
   "source": [
    "from constraint import *\n",
    "import time\n",
    "# Use plotly for graphs in a notebook\n",
    "from plotly.offline import init_notebook_mode, iplot\n",
    "import plotly.graph_objs as go\n",
    "init_notebook_mode(connected=True) "
   ]
  },
  {
   "cell_type": "code",
   "execution_count": 27,
   "metadata": {},
   "outputs": [],
   "source": [
    "class NQ(Problem):\n",
    "\n",
    "    def __init__(self, size=8, solver=None):\n",
    "        super(NQ, self).__init__(solver=solver)\n",
    "\n",
    "        self.addVariables(range(size), range(size))\n",
    "        for c1 in range(size):\n",
    "            for c2 in range(c1+1,size):\n",
    "                self.addConstraint(lambda row1, row2, col1=c1, col2=c2:\n",
    "                                abs(row1-row2) != abs(col1-col2) and row1 != row2,\n",
    "                                (c1, c2))\n"
   ]
  },
  {
   "cell_type": "code",
   "execution_count": 69,
   "metadata": {},
   "outputs": [],
   "source": [
    "# how many seconds is too long?\n",
    "too_long = 100\n",
    "# should we skip backtrack because it will take too long?\n",
    "skip = False\n",
    "# list of times for MinCongflictsSolver\n",
    "mcs_times = []\n",
    "# problem sizes we want to explore\n",
    "sizes = list(range(25,501,25))"
   ]
  },
  {
   "cell_type": "code",
   "execution_count": 70,
   "metadata": {},
   "outputs": [
    {
     "name": "stdout",
     "output_type": "stream",
     "text": [
      "size backtrack minConflicts\n",
      "25\t0.02\t0.03\n",
      "50\t0.20\t0.23\n",
      "75\t1.73\t0.40\n",
      "100\t0.29\t1.05\n",
      "125\t0.77\t1.91\n",
      "150\t365.84\t2.74\n",
      "175\t0.00\t6.34\n",
      "200\t0.00\t9.07\n",
      "225\t0.00\t9.91\n",
      "250\t0.00\t13.26\n",
      "275\t0.00\t18.81\n",
      "300\t0.00\t33.40\n",
      "325\t0.00\t27.59\n",
      "350\t0.00\t29.72\n",
      "375\t0.00\t42.73\n",
      "400\t0.00\t55.98\n",
      "425\t0.00\t67.52\n",
      "450\t0.00\t70.81\n",
      "475\t0.00\t82.97\n",
      "500\t0.00\t115.89\n"
     ]
    }
   ],
   "source": [
    "print('size', 'backtrack', 'minConflicts')\n",
    "\n",
    "for size in sizes:\n",
    "    bts = NQ(size, solver=BacktrackingSolver())\n",
    "    mcs = NQ(size, solver=MinConflictsSolver())\n",
    "    t0 = time.time()\n",
    "    # do BacktrackingSolver id we've not given up due to the last one taking too long\n",
    "    if not skip:\n",
    "        bts.getSolution()\n",
    "        t1 = time.time()\n",
    "        skip = t1 - t0 > too_long\n",
    "    else:\n",
    "        t1 = t0\n",
    "    # now try MinConflictsSolver\n",
    "    mcs.getSolution()\n",
    "    t2 = time.time()\n",
    "    mcs_times.append(t2-t1)\n",
    "    print('{}\\t{:.2f}\\t{:.2f}'.format(size, t1-t0, t2-t1))\n",
    "    \n",
    "    "
   ]
  },
  {
   "cell_type": "code",
   "execution_count": 71,
   "metadata": {},
   "outputs": [
    {
     "data": {
      "application/vnd.plotly.v1+json": {
       "config": {
        "linkText": "Export to plot.ly",
        "plotlyServerURL": "https://plot.ly",
        "showLink": false
       },
       "data": [
        {
         "type": "scatter",
         "uid": "fca901b1-1883-4007-ad76-c992d9ae9f71",
         "x": [
          25,
          50,
          75,
          100,
          125,
          150,
          175,
          200,
          225,
          250,
          275,
          300,
          325,
          350,
          375,
          400,
          425,
          450,
          475,
          500
         ],
         "y": [
          0.03356289863586426,
          0.23429608345031738,
          0.395435094833374,
          1.046720027923584,
          1.9126532077789307,
          2.7366392612457275,
          6.335558891296387,
          9.069747924804688,
          9.9113290309906,
          13.264004230499268,
          18.810640811920166,
          33.39802598953247,
          27.58988094329834,
          29.724565982818604,
          42.72638010978699,
          55.98231887817383,
          67.52372717857361,
          70.80895209312439,
          82.9672281742096,
          115.88864088058472
         ]
        }
       ],
       "layout": {
        "title": {
         "text": "Execution time for N-queens problems of different sizes"
        },
        "xaxis": {
         "title": {
          "text": "problem size"
         }
        },
        "yaxis": {
         "title": {
          "text": "seconds"
         }
        }
       }
      },
      "text/html": [
       "<div id=\"3f670daf-f5db-48c0-b510-b830f3ed84e1\" style=\"height: 525px; width: 100%;\" class=\"plotly-graph-div\"></div><script type=\"text/javascript\">require([\"plotly\"], function(Plotly) { window.PLOTLYENV=window.PLOTLYENV || {};window.PLOTLYENV.BASE_URL=\"https://plot.ly\";Plotly.newPlot(\"3f670daf-f5db-48c0-b510-b830f3ed84e1\", [{\"x\": [25, 50, 75, 100, 125, 150, 175, 200, 225, 250, 275, 300, 325, 350, 375, 400, 425, 450, 475, 500], \"y\": [0.03356289863586426, 0.23429608345031738, 0.395435094833374, 1.046720027923584, 1.9126532077789307, 2.7366392612457275, 6.335558891296387, 9.069747924804688, 9.9113290309906, 13.264004230499268, 18.810640811920166, 33.39802598953247, 27.58988094329834, 29.724565982818604, 42.72638010978699, 55.98231887817383, 67.52372717857361, 70.80895209312439, 82.9672281742096, 115.88864088058472], \"type\": \"scatter\", \"uid\": \"fca901b1-1883-4007-ad76-c992d9ae9f71\"}], {\"title\": {\"text\": \"Execution time for N-queens problems of different sizes\"}, \"xaxis\": {\"title\": {\"text\": \"problem size\"}}, \"yaxis\": {\"title\": {\"text\": \"seconds\"}}}, {\"showLink\": false, \"linkText\": \"Export to plot.ly\", \"plotlyServerURL\": \"https://plot.ly\"})});</script><script type=\"text/javascript\">window.addEventListener(\"resize\", function(){window._Plotly.Plots.resize(document.getElementById(\"3f670daf-f5db-48c0-b510-b830f3ed84e1\"));});</script>"
      ],
      "text/vnd.plotly.v1+html": [
       "<div id=\"3f670daf-f5db-48c0-b510-b830f3ed84e1\" style=\"height: 525px; width: 100%;\" class=\"plotly-graph-div\"></div><script type=\"text/javascript\">require([\"plotly\"], function(Plotly) { window.PLOTLYENV=window.PLOTLYENV || {};window.PLOTLYENV.BASE_URL=\"https://plot.ly\";Plotly.newPlot(\"3f670daf-f5db-48c0-b510-b830f3ed84e1\", [{\"x\": [25, 50, 75, 100, 125, 150, 175, 200, 225, 250, 275, 300, 325, 350, 375, 400, 425, 450, 475, 500], \"y\": [0.03356289863586426, 0.23429608345031738, 0.395435094833374, 1.046720027923584, 1.9126532077789307, 2.7366392612457275, 6.335558891296387, 9.069747924804688, 9.9113290309906, 13.264004230499268, 18.810640811920166, 33.39802598953247, 27.58988094329834, 29.724565982818604, 42.72638010978699, 55.98231887817383, 67.52372717857361, 70.80895209312439, 82.9672281742096, 115.88864088058472], \"type\": \"scatter\", \"uid\": \"fca901b1-1883-4007-ad76-c992d9ae9f71\"}], {\"title\": {\"text\": \"Execution time for N-queens problems of different sizes\"}, \"xaxis\": {\"title\": {\"text\": \"problem size\"}}, \"yaxis\": {\"title\": {\"text\": \"seconds\"}}}, {\"showLink\": false, \"linkText\": \"Export to plot.ly\", \"plotlyServerURL\": \"https://plot.ly\"})});</script><script type=\"text/javascript\">window.addEventListener(\"resize\", function(){window._Plotly.Plots.resize(document.getElementById(\"3f670daf-f5db-48c0-b510-b830f3ed84e1\"));});</script>"
      ]
     },
     "metadata": {},
     "output_type": "display_data"
    }
   ],
   "source": [
    "# plot the results for MinConflictsSolver\n",
    "data = go.Data([go.Scatter(x=sizes, y=mcs_times)])\n",
    "layout = go.Layout(title='Execution time for N-queens problems of different sizes',\n",
    "                   xaxis={'title':'problem size'}, \n",
    "                   yaxis={'title':'seconds'})\n",
    "iplot(go.Figure(data=data, layout=layout))"
   ]
  },
  {
   "cell_type": "code",
   "execution_count": null,
   "metadata": {},
   "outputs": [],
   "source": []
  }
 ],
 "metadata": {
  "kernelspec": {
   "display_name": "Python 3",
   "language": "python",
   "name": "python3"
  },
  "language_info": {
   "codemirror_mode": {
    "name": "ipython",
    "version": 3
   },
   "file_extension": ".py",
   "mimetype": "text/x-python",
   "name": "python",
   "nbconvert_exporter": "python",
   "pygments_lexer": "ipython3",
   "version": "3.7.0"
  }
 },
 "nbformat": 4,
 "nbformat_minor": 2
}
