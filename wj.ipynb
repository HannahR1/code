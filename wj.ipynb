{
 "cells": [
  {
   "cell_type": "code",
   "execution_count": 1,
   "metadata": {},
   "outputs": [],
   "source": [
    "# import the AIMA search code\n",
    "import aima.search as s"
   ]
  },
  {
   "cell_type": "markdown",
   "metadata": {},
   "source": [
    "Classic two water jugs problem: given two jugs J0 and J1 with capacities C0 and C1, initially filled with W1 and W2.  Can you end up with exactly G0 liters in J0 and G1 liters in J1?  You're allowed the following actions: dump the contents of either jug onto the floor, or pour the contents of one jug into the other untill either the jug from which you are pouring is empty or the one you are filling is full."
   ]
  },
  {
   "cell_type": "code",
   "execution_count": 2,
   "metadata": {},
   "outputs": [],
   "source": [
    "class WJ(s.Problem):\n",
    "    \"\"\"\n",
    "    STATE: tuple like (3,2) if jug J0 has 3 liters and J1 2 liters\n",
    "    GOAL: a state except with -1 representing a 'don't care', so\n",
    "      valid goals include (1,1) and (-1,2).\n",
    "    PROBLEM: Specify capacities of each jug, initial state and goal \"\"\"\n",
    "\n",
    "    def __init__(self, capacities=(5,2), initial=(5,0), goal=(0,1)):\n",
    "        self.capacities = capacities\n",
    "        self.initial = initial\n",
    "        self.goal = goal\n",
    "\n",
    "    def __repr__(self):\n",
    "        \"\"\" Returns a string representing the object \"\"\"\n",
    "        return \"WJ({},{},{})\".format(self.capacities, self.initial, self.goal)\n",
    "\n",
    "    def goal_test(self, state):\n",
    "        \"\"\" Returns True iff state is a goal state \"\"\"\n",
    "        G0, G1 = self.goal\n",
    "        return (state[0] == G0 or G0 < 0) and \\\n",
    "               (state[1] == G1 or G1 < 0)\n",
    "\n",
    "    def h(self, node):\n",
    "        \"\"\" Estimate of cost of shortest path from node to a goal \"\"\"\n",
    "        return 0 if self.goal_test(node.state) else 1\n",
    "    \n",
    "    def actions(self, state):\n",
    "        \"\"\" generates legal actions for state \"\"\"\n",
    "        (J0, J1) = state\n",
    "        (C0, C1) = self.capacities\n",
    "        if J0 > 0: yield 'dump1'\n",
    "        if J1>0: yield 'dump2'\n",
    "        if J1<C1 and J0>0: yield 'pour1=>2'\n",
    "        if J0<C0 and J1>0: yield 'pour2=>1'\n",
    "\n",
    "    def result(self, state, action):\n",
    "        \"\"\" Returns the successor of state after doing action \"\"\"\n",
    "        (J0, J1) = state\n",
    "        (C0, C1) = self.capacities\n",
    "        if action == 'dump1':\n",
    "            return (0, J1)\n",
    "        elif action == 'dump2':\n",
    "            return (J0, 0)\n",
    "        elif action == 'pour1=>2':\n",
    "            delta = min(J0, C1-J1)\n",
    "            return (J0-delta, J1+delta)\n",
    "        elif action == 'pour2=>1':\n",
    "            delta = min(J1, C0-J0)\n",
    "            return (J0+delta, J1-delta)\n",
    "        else:\n",
    "            raise ValueError('Unrecognized action: ' + action)\n",
    "\n",
    "    def path_cost(self, c, state1, action, state2):\n",
    "        \"\"\" Cost of path from start node to state1 assuming cost c to\n",
    "        get to state1 and doing action to get to state2 \"\"\"\n",
    "        return c + 1"
   ]
  },
  {
   "cell_type": "code",
   "execution_count": 3,
   "metadata": {},
   "outputs": [
    {
     "name": "stdout",
     "output_type": "stream",
     "text": [
      "Problem: WJ((9, 4),(9, 4),(1, 0))\n"
     ]
    }
   ],
   "source": [
    "# Create a problem instance\n",
    "p = WJ((9,4), (9,4), (1,0)) \n",
    "print(\"Problem:\", p)                                                              "
   ]
  },
  {
   "cell_type": "code",
   "execution_count": 4,
   "metadata": {},
   "outputs": [
    {
     "name": "stdout",
     "output_type": "stream",
     "text": [
      "Soution with cost 5 is [(None, <Node (9, 4)>), ('dump2', <Node (9, 0)>), ('pour1=>2', <Node (5, 4)>), ('dump2', <Node (5, 0)>), ('pour1=>2', <Node (1, 4)>), ('dump2', <Node (1, 0)>)]\n"
     ]
    }
   ],
   "source": [
    "# Use breadth first graph search function. Result will be None\n",
    "# if the search failed or a goal node in the search graph if successful.\n",
    "answer = s.breadth_first_graph_search(p)\n",
    "if answer:\n",
    "    # A node’s path is the best way to get to it from the start node, i.e., a solution\n",
    "    print(\"Soution with cost\", answer.path_cost, \"is\", [(node.action, node) for node in answer.path()])\n",
    "else:\n",
    "    print(\"No solution found 🙁\")"
   ]
  },
  {
   "cell_type": "code",
   "execution_count": null,
   "metadata": {},
   "outputs": [],
   "source": []
  }
 ],
 "metadata": {
  "kernelspec": {
   "display_name": "Python 3",
   "language": "python",
   "name": "python3"
  },
  "language_info": {
   "codemirror_mode": {
    "name": "ipython",
    "version": 3
   },
   "file_extension": ".py",
   "mimetype": "text/x-python",
   "name": "python",
   "nbconvert_exporter": "python",
   "pygments_lexer": "ipython3",
   "version": "3.6.0"
  }
 },
 "nbformat": 4,
 "nbformat_minor": 2
}
